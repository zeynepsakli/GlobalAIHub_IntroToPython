{
 "cells": [
  {
   "cell_type": "code",
   "execution_count": 50,
   "metadata": {},
   "outputs": [
    {
     "name": "stdout",
     "output_type": "stream",
     "text": [
      "zeynep can speak English\n",
      "yasemin can speak Spanish\n",
      "Yusuf can speak Japanese\n",
      "Esra can speak German\n"
     ]
    }
   ],
   "source": [
    "class Employees:\n",
    "    def __init__(self, name, age, language):\n",
    "        self.name = name\n",
    "        self.age = age\n",
    "        self.language = language\n",
    "    def showLanguage(self):\n",
    "        \n",
    "        print(self.name + \" can speak \" + self.language)\n",
    "        \n",
    "employee1=Employees(\"zeynep\",22,\"English\")\n",
    "employee2=Employees(\"yasemin\",48,\"Spanish\")\n",
    "employee3=Employees(\"Yusuf\",5,\"Japanese\")\n",
    "employee1.showLanguage()\n",
    "employee2.showLanguage()\n",
    "employee3.showLanguage()\n",
    "\n",
    "class Manager:\n",
    "    name = \"Esra\"\n",
    "    age = 31\n",
    "    language = \"German\"\n",
    "manager1=Manager()\n",
    "print(manager1.name + \" can speak \"+ manager1.language)\n",
    "   \n",
    "\n",
    "\n",
    "\n",
    "\n",
    "   \n",
    "    \n",
    "    \n",
    "    \n"
   ]
  },
  {
   "cell_type": "code",
   "execution_count": null,
   "metadata": {},
   "outputs": [],
   "source": []
  }
 ],
 "metadata": {
  "kernelspec": {
   "display_name": "Python 3",
   "language": "python",
   "name": "python3"
  },
  "language_info": {
   "codemirror_mode": {
    "name": "ipython",
    "version": 3
   },
   "file_extension": ".py",
   "mimetype": "text/x-python",
   "name": "python",
   "nbconvert_exporter": "python",
   "pygments_lexer": "ipython3",
   "version": "3.7.4"
  }
 },
 "nbformat": 4,
 "nbformat_minor": 2
}
