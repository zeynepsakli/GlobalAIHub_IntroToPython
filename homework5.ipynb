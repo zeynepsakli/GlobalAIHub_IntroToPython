{
 "cells": [
  {
   "cell_type": "code",
   "execution_count": 7,
   "metadata": {},
   "outputs": [
    {
     "name": "stdout",
     "output_type": "stream",
     "text": [
      "The cat  has  brown eyes \n",
      "The dog  has  black eyes \n",
      "cat\n",
      "Male\n",
      "The cat  has  Male eyes \n",
      "dog\n",
      "Female\n",
      "The dog  has  Female eyes \n"
     ]
    }
   ],
   "source": [
    "class Animals():\n",
    "    def __init__(self, name, colour ):\n",
    "        self.name = name\n",
    "        self.colour = colour\n",
    "    def printName(self):\n",
    "        print(self.name)\n",
    "        \n",
    "    def printGender(self):\n",
    "        print(self.colour)\n",
    "        \n",
    "    def printInfo(self):\n",
    "        print(\"The {}  has  {} eyes \".format(self.name,self.colour))\n",
    "cat=Animals(\"cat\",\"brown\")\n",
    "dog=Animals(\"dog\",\"black\")\n",
    "cat.printInfo()\n",
    "dog.printInfo()\n",
    "\n",
    "class Cats():\n",
    "    def __init__(self, name, gender):\n",
    "        self.name = name\n",
    "        self.gender = gender\n",
    "    def printName(self):\n",
    "        print(self.name)\n",
    "        \n",
    "    def printGender(self):\n",
    "        print(self.gender)\n",
    "        \n",
    "    def printInfo(self):\n",
    "        print(\"The {} is a {} \".format(self.name,self.gender))\n",
    "Cat=Animals(\"cat\",\"Male\")\n",
    "Cat.printName()\n",
    "Cat.printGender()\n",
    "Cat.printInfo()\n",
    "\n",
    "class Dogs():\n",
    "    def __init__(self, name, gender):\n",
    "        self.name = name\n",
    "        self.gender = gender\n",
    "    def printName(self):\n",
    "        print(self.name)\n",
    "        \n",
    "    def printGender(self):\n",
    "        print(self.gender)\n",
    "        \n",
    "    def printInfo(self):\n",
    "        print(\"The {} is a {} \".format(self.name,self.gender))\n",
    "Dog=Animals(\"dog\",\"Female\")\n",
    "Dog.printName()\n",
    "Dog.printGender()\n",
    "Dog.printInfo()\n",
    "\n",
    "    "
   ]
  },
  {
   "cell_type": "code",
   "execution_count": null,
   "metadata": {},
   "outputs": [],
   "source": []
  }
 ],
 "metadata": {
  "kernelspec": {
   "display_name": "Python 3",
   "language": "python",
   "name": "python3"
  },
  "language_info": {
   "codemirror_mode": {
    "name": "ipython",
    "version": 3
   },
   "file_extension": ".py",
   "mimetype": "text/x-python",
   "name": "python",
   "nbconvert_exporter": "python",
   "pygments_lexer": "ipython3",
   "version": "3.7.4"
  }
 },
 "nbformat": 4,
 "nbformat_minor": 2
}
