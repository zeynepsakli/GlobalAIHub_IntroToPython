{
 "cells": [
  {
   "cell_type": "code",
   "execution_count": 4,
   "metadata": {},
   "outputs": [
    {
     "name": "stdout",
     "output_type": "stream",
     "text": [
      "please give your nameZeynep\n",
      "please give your password1234\n",
      "good job :)\n"
     ]
    }
   ],
   "source": [
    "#### user login program #######\n",
    "username=\"Zeynep\"\n",
    "userpassword=\"1234\"\n",
    "name=str(input(\"please give your name\"))\n",
    "password=input(\"please give your password\")\n",
    "\n",
    "if (username!=name and userpassword==password):\n",
    "    print(\"wrong user name ! try again\")\n",
    "elif (username==name and userpassword!=password):\n",
    "    print(\"wrong user password ! try again\")\n",
    "elif (username!=name and userpassword!=password):\n",
    "    print(\"wrong user name and user password ! try again\")\n",
    "else:\n",
    "    print(\"good job :)\")\n",
    "    \n"
   ]
  },
  {
   "cell_type": "code",
   "execution_count": 5,
   "metadata": {},
   "outputs": [
    {
     "name": "stdout",
     "output_type": "stream",
     "text": [
      "{'python': 1, 'course': 2}\n"
     ]
    }
   ],
   "source": [
    "###Second Part"
   ]
  },
  {
   "cell_type": "code",
   "execution_count": 10,
   "metadata": {},
   "outputs": [
    {
     "name": "stdout",
     "output_type": "stream",
     "text": [
      "please give your nameHannah\n",
      "please give your password1234\n",
      "good job :)\n"
     ]
    }
   ],
   "source": [
    "employees = {\n",
    "    \"employee1\" : {\n",
    "        \"namex\": \"Hannah\",\n",
    "        \"passwordx\": \"1234\"\n",
    "    }}\n",
    "name=str(input(\"please give your name\"))\n",
    "password=input(\"please give your password\")\n",
    "\n",
    "if (employees.get(\"employee1\").get(\"namex\")!=name and employees.get(\"employee1\").get(\"passwordx\")==password):\n",
    "    print(\"wrong user name ! try again\")\n",
    "elif (employees.get(\"employee1\").get(\"namex\")==name and employees.get(\"employee1\").get(\"passwordx\")!=password):\n",
    "    print(\"wrong user password ! try again\")\n",
    "elif (employees.get(\"employee1\").get(\"namex\")!=name and employees.get(\"employee1\").get(\"passwordx\")!=password):\n",
    "    print(\"wrong user name and user password ! try again\")\n",
    "else:\n",
    "    print(\"good job :)\")\n"
   ]
  },
  {
   "cell_type": "code",
   "execution_count": null,
   "metadata": {},
   "outputs": [],
   "source": []
  },
  {
   "cell_type": "code",
   "execution_count": null,
   "metadata": {},
   "outputs": [],
   "source": []
  }
 ],
 "metadata": {
  "kernelspec": {
   "display_name": "Python 3",
   "language": "python",
   "name": "python3"
  },
  "language_info": {
   "codemirror_mode": {
    "name": "ipython",
    "version": 3
   },
   "file_extension": ".py",
   "mimetype": "text/x-python",
   "name": "python",
   "nbconvert_exporter": "python",
   "pygments_lexer": "ipython3",
   "version": "3.7.7"
  }
 },
 "nbformat": 4,
 "nbformat_minor": 4
}
