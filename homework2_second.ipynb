{
 "cells": [
  {
   "cell_type": "code",
   "execution_count": 11,
   "metadata": {},
   "outputs": [
    {
     "name": "stdout",
     "output_type": "stream",
     "text": [
      "please give a single digit 8\n",
      "number is even 0\n",
      "number is even 2\n",
      "number is even 4\n",
      "number is even 6\n"
     ]
    }
   ],
   "source": [
    "number=int(input(\"please give a single digit \"))\n",
    "if number >=10:\n",
    "    print(\" FATAL ERROR reRun code and  give a single digit\")\n",
    "i=0\n",
    "while i!=number:\n",
    "    if i%2==0:\n",
    "        print(\"number is even\",i)\n",
    "    i+=1\n"
   ]
  },
  {
   "cell_type": "code",
   "execution_count": null,
   "metadata": {},
   "outputs": [],
   "source": []
  },
  {
   "cell_type": "code",
   "execution_count": null,
   "metadata": {},
   "outputs": [],
   "source": []
  }
 ],
 "metadata": {
  "kernelspec": {
   "display_name": "Python 3",
   "language": "python",
   "name": "python3"
  },
  "language_info": {
   "codemirror_mode": {
    "name": "ipython",
    "version": 3
   },
   "file_extension": ".py",
   "mimetype": "text/x-python",
   "name": "python",
   "nbconvert_exporter": "python",
   "pygments_lexer": "ipython3",
   "version": "3.7.7"
  }
 },
 "nbformat": 4,
 "nbformat_minor": 4
}
